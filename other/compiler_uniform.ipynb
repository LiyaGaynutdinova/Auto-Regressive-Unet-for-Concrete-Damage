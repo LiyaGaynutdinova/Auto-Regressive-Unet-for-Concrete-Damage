{
 "cells": [
  {
   "cell_type": "code",
   "execution_count": 29,
   "metadata": {},
   "outputs": [],
   "source": [
    "import torch\n",
    "from dataset import *\n",
    "from save_load import *\n",
    "from NN_library.AutoUnet.AutoUnet_uniform import *\n",
    "from NN_library.ConvNet.ConvNet_uniform import *"
   ]
  },
  {
   "cell_type": "code",
   "execution_count": 30,
   "metadata": {},
   "outputs": [
    {
     "data": {
      "text/plain": [
       "'2.0.1'"
      ]
     },
     "execution_count": 30,
     "metadata": {},
     "output_type": "execute_result"
    }
   ],
   "source": [
    "torch.__version__"
   ]
  },
  {
   "cell_type": "markdown",
   "metadata": {},
   "source": [
    "### AutoUnet"
   ]
  },
  {
   "cell_type": "code",
   "execution_count": 31,
   "metadata": {},
   "outputs": [],
   "source": [
    "name = 'NN_library/AutoUnet/AutoUnet_uniform'\n",
    "args = {'dev' : dev, 'name' : name}\n",
    "unet = AutoUNet()\n",
    "unet = load_network(unet, args['name'], args)"
   ]
  },
  {
   "cell_type": "code",
   "execution_count": 32,
   "metadata": {},
   "outputs": [],
   "source": [
    "data = dataset_uniform()"
   ]
  },
  {
   "cell_type": "code",
   "execution_count": 33,
   "metadata": {},
   "outputs": [],
   "source": [
    "geometry, damage, imp_shrinkage, _, _ = data.__getitem__(0)\n",
    "n = 0\n",
    "\n",
    "# An example input you would normally provide to your model's forward() method.\n",
    "example = torch.cat([geometry, imp_shrinkage[[n+1]] / -0.001, damage[[n],:,:]], axis=1).view(1,3,99,99)\n",
    "torch.save(example, 'input_AutoUnet.pt')"
   ]
  },
  {
   "cell_type": "code",
   "execution_count": 6,
   "metadata": {},
   "outputs": [],
   "source": [
    "# Use torch.jit.trace to generate a torch.jit.ScriptModule via tracing.\n",
    "traced_script_module = torch.jit.trace(unet, example)"
   ]
  },
  {
   "cell_type": "code",
   "execution_count": 7,
   "metadata": {},
   "outputs": [],
   "source": [
    "output = traced_script_module(example)"
   ]
  },
  {
   "cell_type": "code",
   "execution_count": 11,
   "metadata": {},
   "outputs": [
    {
     "data": {
      "text/plain": [
       "<matplotlib.image.AxesImage at 0x278d4ee6d50>"
      ]
     },
     "execution_count": 11,
     "metadata": {},
     "output_type": "execute_result"
    },
    {
     "data": {
      "image/png": "[encoded data removed]",
      "text/plain": [
       "<Figure size 640x480 with 1 Axes>"
      ]
     },
     "metadata": {},
     "output_type": "display_data"
    }
   ],
   "source": [
    "plt.imshow(output[0, 0].detach())"
   ]
  },
  {
   "cell_type": "code",
   "execution_count": 16,
   "metadata": {},
   "outputs": [
    {
     "data": {
      "text/plain": [
       "tensor([[1.5793e-02, 4.6346e-04, 3.0731e-05,  ..., 9.7201e-04, 2.2801e-03,\n",
       "         1.3647e-02],\n",
       "        [8.1215e-04, 1.7615e-05, 6.7374e-07,  ..., 4.4745e-05, 6.7776e-04,\n",
       "         2.1572e-03],\n",
       "        [1.7146e-04, 6.8655e-06, 3.0852e-08,  ..., 1.3351e-03, 3.1130e-03,\n",
       "         1.7343e-03],\n",
       "        ...,\n",
       "        [4.5574e-05, 1.9512e-06, 1.0805e-07,  ..., 6.3942e-05, 1.2558e-02,\n",
       "         9.5443e-04],\n",
       "        [2.1869e-04, 7.8713e-06, 3.7413e-07,  ..., 9.2054e-05, 8.3006e-03,\n",
       "         2.0325e-03],\n",
       "        [6.7982e-03, 2.2956e-04, 5.0567e-05,  ..., 4.0275e-04, 9.8675e-03,\n",
       "         2.5927e-02]], grad_fn=<SelectBackward0>)"
      ]
     },
     "execution_count": 16,
     "metadata": {},
     "output_type": "execute_result"
    }
   ],
   "source": [
    "output[0, 0]"
   ]
  },
  {
   "cell_type": "code",
   "execution_count": 12,
   "metadata": {},
   "outputs": [],
   "source": [
    "traced_script_module.save(\"AutoUnet_uniform.pt\")"
   ]
  },
  {
   "cell_type": "markdown",
   "metadata": {},
   "source": [
    "### Save values"
   ]
  },
  {
   "cell_type": "code",
   "execution_count": 38,
   "metadata": {},
   "outputs": [],
   "source": [
    "class Container(torch.nn.Module):\n",
    "    def __init__(self, my_values):\n",
    "        super().__init__()\n",
    "        for key in my_values:\n",
    "            setattr(self, key, my_values[key])\n",
    "\n",
    "input = {\n",
    "    '0': example\n",
    "}\n",
    "\n",
    "input_shrinkage = {\n",
    "    'imp_shrinkage': (imp_shrinkage[1:] / -0.001).view(-1,1,99,99)\n",
    "}\n",
    "\n",
    "# Save arbitrary values supported by TorchScript\n",
    "# https://pytorch.org/docs/master/jit.html#supported-type\n",
    "container = torch.jit.script(Container(input))\n",
    "container.save(\"container_input_uniform.pt\")\n",
    "container.save(\"imposed_shrinkage_uniform.pt\")"
   ]
  },
  {
   "cell_type": "markdown",
   "metadata": {},
   "source": [
    "### Convnet"
   ]
  },
  {
   "cell_type": "code",
   "execution_count": 19,
   "metadata": {},
   "outputs": [],
   "source": [
    "name = 'NN_library/ConvNet/ConvNet_uniform'\n",
    "args = {'dev' : dev, 'name' : name}\n",
    "net = ConvNet(16)\n",
    "net = load_network(net, args['name'], args)"
   ]
  },
  {
   "cell_type": "code",
   "execution_count": 27,
   "metadata": {},
   "outputs": [],
   "source": [
    "geometry, damage, imp_shrinkage, _, _ = data.__getitem__(0)\n",
    "n = 1\n",
    "example = torch.cat([geometry, imp_shrinkage[[n]] / -0.001, damage[[n],:,:]], axis=1).view(1,3,99,99)\n",
    "torch.save(example, 'input_ConvNet.pt')"
   ]
  },
  {
   "cell_type": "code",
   "execution_count": 28,
   "metadata": {},
   "outputs": [],
   "source": [
    "traced_script_module = torch.jit.trace(net, example)\n",
    "traced_script_module.save(\"ConvNet_uniform.pt\")"
   ]
  },
  {
   "cell_type": "code",
   "execution_count": 26,
   "metadata": {},
   "outputs": [
    {
     "data": {
      "text/plain": [
       "tensor([[1.0000, 0.0808]], grad_fn=<SigmoidBackward0>)"
      ]
     },
     "execution_count": 26,
     "metadata": {},
     "output_type": "execute_result"
    }
   ],
   "source": [
    "output = traced_script_module(example)\n",
    "output"
   ]
  }
 ],
 "metadata": {
  "kernelspec": {
   "display_name": "home",
   "language": "python",
   "name": "python3"
  },
  "language_info": {
   "codemirror_mode": {
    "name": "ipython",
    "version": 3
   },
   "file_extension": ".py",
   "mimetype": "text/x-python",
   "name": "python",
   "nbconvert_exporter": "python",
   "pygments_lexer": "ipython3",
   "version": "3.11.4"
  }
 },
 "nbformat": 4,
 "nbformat_minor": 2
}
