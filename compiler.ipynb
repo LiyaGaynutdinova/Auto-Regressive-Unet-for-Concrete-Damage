{
 "cells": [
  {
   "cell_type": "code",
   "execution_count": 1,
   "metadata": {},
   "outputs": [
    {
     "name": "stdout",
     "output_type": "stream",
     "text": [
      "Using device: cuda\n",
      "Using device: cuda\n"
     ]
    }
   ],
   "source": [
    "import torch\n",
    "from dataset import *\n",
    "from save_load import *\n",
    "from NN_library.AutoUnet.AutoUnet import *\n",
    "from NN_library.ConvNet.ConvNet import *"
   ]
  },
  {
   "cell_type": "code",
   "execution_count": 30,
   "metadata": {},
   "outputs": [
    {
     "data": {
      "text/plain": [
       "'2.0.1'"
      ]
     },
     "execution_count": 30,
     "metadata": {},
     "output_type": "execute_result"
    }
   ],
   "source": [
    "torch.__version__"
   ]
  },
  {
   "cell_type": "markdown",
   "metadata": {},
   "source": [
    "### AutoUnet"
   ]
  },
  {
   "cell_type": "code",
   "execution_count": 2,
   "metadata": {},
   "outputs": [],
   "source": [
    "name = 'NN_library/AutoUnet/AutoUnet'\n",
    "args = {'dev' : dev, 'name' : name}\n",
    "unet = AutoUNet()\n",
    "unet = load_network(unet, args['name'], args)"
   ]
  },
  {
   "cell_type": "code",
   "execution_count": 3,
   "metadata": {},
   "outputs": [],
   "source": [
    "data = dataset_nonuniform()"
   ]
  },
  {
   "cell_type": "code",
   "execution_count": 4,
   "metadata": {},
   "outputs": [],
   "source": [
    "geometry, damage, imp_shrinkage, _, _ = data.__getitem__(0)\n",
    "n = 0\n",
    "# An example input you would normally provide to your model's forward() method.\n",
    "example = torch.cat([geometry, imp_shrinkage[[n+1]] / -0.001, damage[[n],:,:]], axis=1).view(1,3,99,99)"
   ]
  },
  {
   "cell_type": "code",
   "execution_count": 5,
   "metadata": {},
   "outputs": [],
   "source": [
    "# Use torch.jit.trace to generate a torch.jit.ScriptModule via tracing.\n",
    "traced_script_module = torch.jit.trace(unet, example)\n",
    "traced_script_module.save(\"AutoUnet.pt\")"
   ]
  },
  {
   "cell_type": "code",
   "execution_count": 6,
   "metadata": {},
   "outputs": [
    {
     "data": {
      "text/plain": [
       "<matplotlib.image.AxesImage at 0x241e55011d0>"
      ]
     },
     "execution_count": 6,
     "metadata": {},
     "output_type": "execute_result"
    },
    {
     "data": {
      "image/png": "[encoded data removed]",
      "text/plain": [
       "<Figure size 640x480 with 1 Axes>"
      ]
     },
     "metadata": {},
     "output_type": "display_data"
    }
   ],
   "source": [
    "output = traced_script_module(example)\n",
    "plt.imshow(output[0, 0].detach())"
   ]
  },
  {
   "cell_type": "code",
   "execution_count": 7,
   "metadata": {},
   "outputs": [
    {
     "data": {
      "text/plain": [
       "tensor([[4.9765e-05, 1.9431e-07, 2.8542e-09,  ..., 2.1192e-08, 7.3569e-07,\n",
       "         4.0847e-05],\n",
       "        [6.1513e-07, 1.9478e-10, 2.3404e-10,  ..., 1.0435e-08, 3.9788e-09,\n",
       "         2.8679e-07],\n",
       "        [3.8542e-10, 1.0126e-08, 6.3288e-10,  ..., 1.2480e-09, 2.4255e-09,\n",
       "         6.5944e-07],\n",
       "        ...,\n",
       "        [3.2045e-05, 3.2665e-07, 9.0237e-11,  ..., 4.4464e-04, 6.8636e-04,\n",
       "         3.4134e-04],\n",
       "        [1.5427e-04, 1.7526e-05, 5.8676e-08,  ..., 4.9848e-04, 6.0610e-04,\n",
       "         9.7417e-04],\n",
       "        [2.7486e-03, 5.6001e-04, 4.2899e-05,  ..., 2.8333e-04, 4.3327e-04,\n",
       "         1.1778e-03]], grad_fn=<SelectBackward0>)"
      ]
     },
     "execution_count": 7,
     "metadata": {},
     "output_type": "execute_result"
    }
   ],
   "source": [
    "output[0, 0]"
   ]
  },
  {
   "cell_type": "markdown",
   "metadata": {},
   "source": [
    "### Save values"
   ]
  },
  {
   "cell_type": "code",
   "execution_count": 8,
   "metadata": {},
   "outputs": [],
   "source": [
    "class Container(torch.nn.Module):\n",
    "    def __init__(self, my_values):\n",
    "        super().__init__()\n",
    "        for key in my_values:\n",
    "            setattr(self, key, my_values[key])\n",
    "\n",
    "input = {\n",
    "    '0': example\n",
    "}\n",
    "\n",
    "input_shrinkage = {\n",
    "    'imp_shrinkage': (imp_shrinkage[1:] / -0.001).view(-1,1,99,99)\n",
    "}\n",
    "\n",
    "# Save arbitrary values supported by TorchScript\n",
    "# https://pytorch.org/docs/master/jit.html#supported-type\n",
    "container = torch.jit.script(Container(input))\n",
    "container.save(\"Autounet_input.pt\")\n",
    "container = torch.jit.script(Container(input_shrinkage))\n",
    "container.save(\"imposed_shrinkage.pt\")"
   ]
  },
  {
   "cell_type": "markdown",
   "metadata": {},
   "source": [
    "### Convnet"
   ]
  },
  {
   "cell_type": "code",
   "execution_count": 9,
   "metadata": {},
   "outputs": [],
   "source": [
    "name = 'NN_library/ConvNet/ConvNet'\n",
    "args = {'dev' : dev, 'name' : name}\n",
    "net = ConvNet(16)\n",
    "net = load_network(net, args['name'], args)"
   ]
  },
  {
   "cell_type": "code",
   "execution_count": 10,
   "metadata": {},
   "outputs": [],
   "source": [
    "geometry, damage, imp_shrinkage, _, _ = data.__getitem__(0)\n",
    "n = 1\n",
    "example = torch.cat([geometry, imp_shrinkage[[n]] / -0.001, damage[[n],:,:]], axis=1).view(1,3,99,99)"
   ]
  },
  {
   "cell_type": "code",
   "execution_count": 11,
   "metadata": {},
   "outputs": [],
   "source": [
    "traced_script_module = torch.jit.trace(net, example)\n",
    "traced_script_module.save(\"ConvNet.pt\")"
   ]
  },
  {
   "cell_type": "code",
   "execution_count": 12,
   "metadata": {},
   "outputs": [
    {
     "data": {
      "text/plain": [
       "tensor([[1.0000, 0.0065]], grad_fn=<SigmoidBackward0>)"
      ]
     },
     "execution_count": 12,
     "metadata": {},
     "output_type": "execute_result"
    }
   ],
   "source": [
    "output = traced_script_module(example)\n",
    "output"
   ]
  },
  {
   "cell_type": "code",
   "execution_count": 13,
   "metadata": {},
   "outputs": [],
   "source": [
    "input = {\n",
    "    '0': example\n",
    "}\n",
    "container = torch.jit.script(Container(input))\n",
    "container.save(\"Convnet_input.pt\")"
   ]
  }
 ],
 "metadata": {
  "kernelspec": {
   "display_name": "home",
   "language": "python",
   "name": "python3"
  },
  "language_info": {
   "codemirror_mode": {
    "name": "ipython",
    "version": 3
   },
   "file_extension": ".py",
   "mimetype": "text/x-python",
   "name": "python",
   "nbconvert_exporter": "python",
   "pygments_lexer": "ipython3",
   "version": "3.11.4"
  }
 },
 "nbformat": 4,
 "nbformat_minor": 2
}
