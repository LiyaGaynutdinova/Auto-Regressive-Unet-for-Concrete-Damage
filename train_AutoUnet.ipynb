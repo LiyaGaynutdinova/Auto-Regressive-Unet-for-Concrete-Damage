{
 "cells": [
  {
   "cell_type": "code",
   "execution_count": 1,
   "metadata": {},
   "outputs": [
    {
     "name": "stdout",
     "output_type": "stream",
     "text": [
      "Using device: cuda\n"
     ]
    }
   ],
   "source": [
    "import numpy as np\n",
    "#import mlflow\n",
    "import matplotlib.pyplot as plt\n",
    "from matplotlib.pyplot import figure\n",
    "%matplotlib inline\n",
    "from PIL import Image\n",
    "from dataset import *\n",
    "from save_load import *\n",
    "from NN_library.AutoUnet.AutoUnet import *\n",
    "from NN_library.AutoUnet.train_AutoUnet import *\n",
    "%load_ext autoreload\n",
    "%autoreload 2\n",
    "\n",
    "#mlflow.autolog()"
   ]
  },
  {
   "cell_type": "code",
   "execution_count": 2,
   "metadata": {},
   "outputs": [],
   "source": [
    "data = dataset_seq()\n",
    "geometry, damage, imp_shrinkage, obs_shrinkage, stiffness = data.__getitem__(1000)\n",
    "loaders = get_loaders(data, 16)"
   ]
  },
  {
   "cell_type": "code",
   "execution_count": null,
   "metadata": {},
   "outputs": [],
   "source": [
    "fig, axs = plt.subplots(nrows=1, ncols=11, figsize=(10, 1), dpi=200)\n",
    "axs.flat[0].imshow(geometry[0], cmap='Greys')\n",
    "axs.flat[0].set_axis_off()\n",
    "for i in range(1,11):\n",
    "    axs.flat[i].imshow(damage[i], cmap='Greys')\n",
    "    axs.flat[i].set_axis_off()"
   ]
  },
  {
   "cell_type": "code",
   "execution_count": 4,
   "metadata": {},
   "outputs": [],
   "source": [
    "name = 'NN_library/AutoUnet/AutoUnet'\n",
    "args = {'lr' : 0.00005, 'epochs' : 20, 'dev' : dev, 'name' : name}"
   ]
  },
  {
   "cell_type": "code",
   "execution_count": 5,
   "metadata": {},
   "outputs": [],
   "source": [
    "unet = AutoUNet()"
   ]
  },
  {
   "cell_type": "code",
   "execution_count": 6,
   "metadata": {},
   "outputs": [],
   "source": [
    "torch.cuda.empty_cache() "
   ]
  },
  {
   "cell_type": "code",
   "execution_count": 7,
   "metadata": {},
   "outputs": [
    {
     "name": "stdout",
     "output_type": "stream",
     "text": [
      "Number of parameters: 7697345\n"
     ]
    }
   ],
   "source": [
    "total_params = sum(p.numel() for p in unet.parameters())\n",
    "print(f\"Number of parameters: {total_params}\")"
   ]
  },
  {
   "cell_type": "code",
   "execution_count": 8,
   "metadata": {},
   "outputs": [],
   "source": [
    "unet = load_network(unet, args['name']+'_19', args)"
   ]
  },
  {
   "cell_type": "code",
   "execution_count": 9,
   "metadata": {},
   "outputs": [
    {
     "name": "stdout",
     "output_type": "stream",
     "text": [
      "Epoch: 0 batch: 0 mean train loss:  15027.0355491638\n",
      "Epoch: 0 batch: 100 mean train loss:  14226.8063887656\n",
      "Epoch: 0 batch: 200 mean train loss:  14240.0445614159\n",
      "Epoch: 0 batch: 300 mean train loss:  18067.4213230498\n",
      "Epoch: 0 batch: 400 mean train loss:  14303.7614060895\n",
      "Epoch: 0 batch: 500 mean train loss:  16288.1878114358\n",
      "Epoch: 0 batch: 600 mean train loss:  15238.2816605978\n",
      "Epoch: 0 batch: 700 mean train loss:  14668.2282432086\n",
      "Epoch: 0 mean train loss:  15028.1613622214 mean val. rec. loss:  16238.2910156250\n",
      "Epoch: 1 batch: 0 mean train loss:  17775.4808197021\n",
      "Epoch: 1 batch: 100 mean train loss:  15295.5010280609\n",
      "Epoch: 1 batch: 200 mean train loss:  14856.2554132938\n",
      "Epoch: 1 batch: 300 mean train loss:  14486.1624903381\n",
      "Epoch: 1 batch: 400 mean train loss:  14256.0294178277\n",
      "Epoch: 1 batch: 500 mean train loss:  14203.2727801092\n",
      "Epoch: 1 batch: 600 mean train loss:  16703.4937385439\n",
      "Epoch: 1 batch: 700 mean train loss:  14760.2364911912\n",
      "Epoch: 1 mean train loss:  14978.1772141844 mean val. rec. loss:  15054.0986328125\n",
      "Epoch: 2 batch: 0 mean train loss:  14707.2721635550\n",
      "Epoch: 2 batch: 100 mean train loss:  15856.2550889168\n",
      "Epoch: 2 batch: 200 mean train loss:  15313.2891654968\n",
      "Epoch: 2 batch: 300 mean train loss:  16366.9674472436\n",
      "Epoch: 2 batch: 400 mean train loss:  14708.7877846061\n",
      "Epoch: 2 batch: 500 mean train loss:  13861.3517204912\n",
      "Epoch: 2 batch: 600 mean train loss:  14498.9655539989\n",
      "Epoch: 2 batch: 700 mean train loss:  15046.9451359585\n",
      "Epoch: 2 mean train loss:  14936.5418139853 mean val. rec. loss:  14979.3730468750\n",
      "Epoch: 3 batch: 0 mean train loss:  14109.4252521838\n",
      "Epoch: 3 batch: 100 mean train loss:  16185.5205204939\n",
      "Epoch: 3 batch: 200 mean train loss:  15098.1801509857\n",
      "Epoch: 3 batch: 300 mean train loss:  16558.8149137497\n",
      "Epoch: 3 batch: 400 mean train loss:  14457.5986280441\n",
      "Epoch: 3 batch: 500 mean train loss:  14467.8094975948\n",
      "Epoch: 3 batch: 600 mean train loss:  14257.3565822244\n",
      "Epoch: 3 batch: 700 mean train loss:  15019.8393683759\n",
      "Epoch: 3 mean train loss:  14908.2342912535 mean val. rec. loss:  15070.6142578125\n",
      "Epoch: 4 batch: 0 mean train loss:  15176.3350783667\n",
      "Epoch: 4 batch: 100 mean train loss:  14666.7312219650\n",
      "Epoch: 4 batch: 200 mean train loss:  15415.8910309756\n",
      "Epoch: 4 batch: 300 mean train loss:  15165.1526985168\n",
      "Epoch: 4 batch: 400 mean train loss:  15661.2899713516\n",
      "Epoch: 4 batch: 500 mean train loss:  14736.1039538383\n",
      "Epoch: 4 batch: 600 mean train loss:  14764.8729262352\n",
      "Epoch: 4 batch: 700 mean train loss:  13513.4727653265\n",
      "Epoch: 4 mean train loss:  14833.7488920291 mean val. rec. loss:  14997.4482421875\n",
      "Epoch: 5 batch: 0 mean train loss:  14715.0099561214\n",
      "Epoch: 5 batch: 100 mean train loss:  14622.8458592482\n",
      "Epoch: 5 batch: 200 mean train loss:  14418.5851583406\n",
      "Epoch: 5 batch: 300 mean train loss:  15026.8121459776\n",
      "Epoch: 5 batch: 400 mean train loss:  14408.5936742723\n",
      "Epoch: 5 batch: 500 mean train loss:  15304.9237592069\n",
      "Epoch: 5 batch: 600 mean train loss:  15093.5051991316\n",
      "Epoch: 5 batch: 700 mean train loss:  15098.2525249721\n",
      "Epoch: 5 mean train loss:  14799.5131673584 mean val. rec. loss:  14926.8896484375\n",
      "Epoch: 6 batch: 0 mean train loss:  14582.9443237921\n",
      "Epoch: 6 batch: 100 mean train loss:  14738.1923941770\n",
      "Epoch: 6 batch: 200 mean train loss:  15228.6077019010\n",
      "Epoch: 6 batch: 300 mean train loss:  14322.8762674332\n",
      "Epoch: 6 batch: 400 mean train loss:  14419.1108155251\n",
      "Epoch: 6 batch: 500 mean train loss:  14223.9549270868\n",
      "Epoch: 6 batch: 600 mean train loss:  13714.6591139585\n",
      "Epoch: 6 batch: 700 mean train loss:  14050.1845991444\n",
      "Epoch: 6 mean train loss:  14788.2744534786 mean val. rec. loss:  14848.0976562500\n",
      "Epoch: 7 batch: 0 mean train loss:  14108.2116205953\n",
      "Epoch: 7 batch: 100 mean train loss:  14419.4413694888\n",
      "Epoch: 7 batch: 200 mean train loss:  14463.3476903690\n",
      "Epoch: 7 batch: 300 mean train loss:  14998.9803399076\n",
      "Epoch: 7 batch: 400 mean train loss:  14948.0630984902\n",
      "Epoch: 7 batch: 500 mean train loss:  14719.4945968613\n",
      "Epoch: 7 batch: 600 mean train loss:  15799.2065228990\n",
      "Epoch: 7 batch: 700 mean train loss:  13617.1531097993\n",
      "Epoch: 7 mean train loss:  14748.9454953099 mean val. rec. loss:  15043.6650390625\n",
      "Epoch: 8 batch: 0 mean train loss:  15507.1171879006\n",
      "Epoch: 8 batch: 100 mean train loss:  14957.2197280540\n",
      "Epoch: 8 batch: 200 mean train loss:  14848.5832873390\n",
      "Epoch: 8 batch: 300 mean train loss:  16009.0618997036\n",
      "Epoch: 8 batch: 400 mean train loss:  14646.3671663200\n",
      "Epoch: 8 batch: 500 mean train loss:  13965.6496047974\n",
      "Epoch: 8 batch: 600 mean train loss:  14439.2724595070\n",
      "Epoch: 8 batch: 700 mean train loss:  13460.0803861618\n",
      "Epoch: 8 mean train loss:  14723.0449713389 mean val. rec. loss:  15127.4716796875\n",
      "Epoch: 9 batch: 0 mean train loss:  14269.1589636207\n",
      "Epoch: 9 batch: 100 mean train loss:  15223.6651726365\n",
      "Epoch: 9 batch: 200 mean train loss:  14515.5675921972\n",
      "Epoch: 9 batch: 300 mean train loss:  13706.0481126979\n",
      "Epoch: 9 batch: 400 mean train loss:  14646.2623786098\n",
      "Epoch: 9 batch: 500 mean train loss:  15284.6782871485\n",
      "Epoch: 9 batch: 600 mean train loss:  16167.2256281376\n",
      "Epoch: 9 batch: 700 mean train loss:  14903.9203540087\n",
      "Epoch: 9 mean train loss:  14695.7496077830 mean val. rec. loss:  14841.6894531250\n",
      "Epoch: 10 batch: 0 mean train loss:  13455.2774260342\n",
      "Epoch: 10 batch: 100 mean train loss:  14077.0820231214\n",
      "Epoch: 10 batch: 200 mean train loss:  14403.2177465567\n",
      "Epoch: 10 batch: 300 mean train loss:  14592.5330084386\n",
      "Epoch: 10 batch: 400 mean train loss:  15274.7558309998\n",
      "Epoch: 10 batch: 500 mean train loss:  15309.7043838501\n",
      "Epoch: 10 batch: 600 mean train loss:  15154.8576354980\n",
      "Epoch: 10 batch: 700 mean train loss:  15247.6411967278\n",
      "Epoch: 10 mean train loss:  14643.7625555420 mean val. rec. loss:  14915.2402343750\n",
      "Epoch: 11 batch: 0 mean train loss:  14372.0700529814\n",
      "Epoch: 11 batch: 100 mean train loss:  15656.2709173970\n",
      "Epoch: 11 batch: 200 mean train loss:  14632.1897224359\n",
      "Epoch: 11 batch: 300 mean train loss:  14113.2087614592\n",
      "Epoch: 11 batch: 400 mean train loss:  14363.9486977234\n",
      "Epoch: 11 batch: 500 mean train loss:  14288.8994115698\n",
      "Epoch: 11 batch: 600 mean train loss:  14184.7194112241\n",
      "Epoch: 11 batch: 700 mean train loss:  13956.2664718126\n",
      "Epoch: 11 mean train loss:  14622.5855750587 mean val. rec. loss:  14953.0029296875\n",
      "Epoch: 12 batch: 0 mean train loss:  14867.3937132033\n",
      "Epoch: 12 batch: 100 mean train loss:  15252.9656401050\n",
      "Epoch: 12 batch: 200 mean train loss:  14947.6077599221\n",
      "Epoch: 12 batch: 300 mean train loss:  13818.9700663367\n",
      "Epoch: 12 batch: 400 mean train loss:  13754.0015618491\n",
      "Epoch: 12 batch: 500 mean train loss:  15405.5049137553\n",
      "Epoch: 12 batch: 600 mean train loss:  15157.2111844884\n",
      "Epoch: 12 batch: 700 mean train loss:  15577.8002552986\n",
      "Epoch: 12 mean train loss:  14622.6082319882 mean val. rec. loss:  14719.8271484375\n",
      "Epoch: 13 batch: 0 mean train loss:  15297.1683912277\n",
      "Epoch: 13 batch: 100 mean train loss:  17538.9829535484\n",
      "Epoch: 13 batch: 200 mean train loss:  13956.3620975465\n",
      "Epoch: 13 batch: 300 mean train loss:  15381.1124969049\n",
      "Epoch: 13 batch: 400 mean train loss:  14019.8228119370\n",
      "Epoch: 13 batch: 500 mean train loss:  14288.1911476675\n",
      "Epoch: 13 batch: 600 mean train loss:  14242.6877241107\n",
      "Epoch: 13 batch: 700 mean train loss:  14686.7929942924\n",
      "Epoch: 13 mean train loss:  14578.0861386623 mean val. rec. loss:  14927.9384765625\n",
      "Epoch: 14 batch: 0 mean train loss:  14109.1458425867\n",
      "Epoch: 14 batch: 100 mean train loss:  13608.4240358394\n",
      "Epoch: 14 batch: 200 mean train loss:  14320.0969441746\n",
      "Epoch: 14 batch: 300 mean train loss:  14961.4515805244\n",
      "Epoch: 14 batch: 400 mean train loss:  14457.7589994511\n",
      "Epoch: 14 batch: 500 mean train loss:  15012.5067995330\n",
      "Epoch: 14 batch: 600 mean train loss:  15917.2790600061\n",
      "Epoch: 14 batch: 700 mean train loss:  14050.5485645123\n",
      "Epoch: 14 mean train loss:  14586.7200696740 mean val. rec. loss:  14785.8271484375\n",
      "Epoch: 15 batch: 0 mean train loss:  14570.9254307747\n",
      "Epoch: 15 batch: 100 mean train loss:  13680.4147973061\n",
      "Epoch: 15 batch: 200 mean train loss:  13839.1169791222\n",
      "Epoch: 15 batch: 300 mean train loss:  14815.6504802704\n",
      "Epoch: 15 batch: 400 mean train loss:  14175.3797380999\n",
      "Epoch: 15 batch: 500 mean train loss:  14142.6992703179\n",
      "Epoch: 15 batch: 600 mean train loss:  14003.2367605162\n",
      "Epoch: 15 batch: 700 mean train loss:  13537.0904192536\n",
      "Epoch: 15 mean train loss:  14518.2160004998 mean val. rec. loss:  14682.2001953125\n",
      "Epoch: 16 batch: 0 mean train loss:  14645.6322524464\n",
      "Epoch: 16 batch: 100 mean train loss:  14303.7914828658\n",
      "Epoch: 16 batch: 200 mean train loss:  15960.0579660255\n",
      "Epoch: 16 batch: 300 mean train loss:  13185.9264436681\n",
      "Epoch: 16 batch: 400 mean train loss:  14635.4388468753\n",
      "Epoch: 16 batch: 500 mean train loss:  14328.5054321387\n",
      "Epoch: 16 batch: 600 mean train loss:  13764.9546813965\n",
      "Epoch: 16 batch: 700 mean train loss:  15846.0233450115\n",
      "Epoch: 16 mean train loss:  14526.2575396680 mean val. rec. loss:  14730.2412109375\n",
      "Epoch: 17 batch: 0 mean train loss:  15431.6712951665\n",
      "Epoch: 17 batch: 100 mean train loss:  14363.2324108705\n",
      "Epoch: 17 batch: 200 mean train loss:  15448.9747619629\n",
      "Epoch: 17 batch: 300 mean train loss:  14732.0928098895\n",
      "Epoch: 17 batch: 400 mean train loss:  15171.3872253001\n",
      "Epoch: 17 batch: 500 mean train loss:  14827.0067750669\n",
      "Epoch: 17 batch: 600 mean train loss:  14939.1899495125\n",
      "Epoch: 17 batch: 700 mean train loss:  14233.8919639052\n",
      "Epoch: 17 mean train loss:  14538.2631044020 mean val. rec. loss:  14894.5800781250\n",
      "Epoch: 18 batch: 0 mean train loss:  14296.0565858418\n",
      "Epoch: 18 batch: 100 mean train loss:  14415.5806097781\n",
      "Epoch: 18 batch: 200 mean train loss:  14824.1382446320\n",
      "Epoch: 18 batch: 300 mean train loss:  13836.8924916886\n",
      "Epoch: 18 batch: 400 mean train loss:  15384.5156791087\n",
      "Epoch: 18 batch: 500 mean train loss:  14335.3359375241\n",
      "Epoch: 18 batch: 600 mean train loss:  14154.9147090607\n",
      "Epoch: 18 batch: 700 mean train loss:  14529.4794167957\n",
      "Epoch: 18 mean train loss:  14487.7911969789 mean val. rec. loss:  14764.2617187500\n",
      "Epoch: 19 batch: 0 mean train loss:  15720.5707405604\n",
      "Epoch: 19 batch: 100 mean train loss:  15078.8543396356\n",
      "Epoch: 19 batch: 200 mean train loss:  14074.3941040709\n",
      "Epoch: 19 batch: 300 mean train loss:  14980.6249437136\n",
      "Epoch: 19 batch: 400 mean train loss:  14782.8063775324\n",
      "Epoch: 19 batch: 500 mean train loss:  14631.9698486328\n",
      "Epoch: 19 batch: 600 mean train loss:  15118.2266520708\n",
      "Epoch: 19 batch: 700 mean train loss:  13786.9274882972\n",
      "Epoch: 19 mean train loss:  14481.6190487392 mean val. rec. loss:  14580.8496093750\n"
     ]
    }
   ],
   "source": [
    "losses_train, losses_val = train(unet, loaders, args)"
   ]
  },
  {
   "cell_type": "code",
   "execution_count": 10,
   "metadata": {
    "scrolled": true
   },
   "outputs": [
    {
     "data": {
      "text/plain": [
       "<matplotlib.legend.Legend at 0x230b1f6a1d0>"
      ]
     },
     "execution_count": 10,
     "metadata": {},
     "output_type": "execute_result"
    },
    {
     "data": {
      "image/png": "[encoded data removed]",
      "text/plain": [
       "<Figure size 640x480 with 1 Axes>"
      ]
     },
     "metadata": {},
     "output_type": "display_data"
    }
   ],
   "source": [
    "plt.plot(losses_train)\n",
    "plt.plot(losses_val)\n",
    "plt.xlabel('epoch')\n",
    "plt.legend(['train', 'validation'])"
   ]
  }
 ],
 "metadata": {
  "kernelspec": {
   "display_name": "Python 3 (ipykernel)",
   "language": "python",
   "name": "python3"
  },
  "language_info": {
   "codemirror_mode": {
    "name": "ipython",
    "version": 3
   },
   "file_extension": ".py",
   "mimetype": "text/x-python",
   "name": "python",
   "nbconvert_exporter": "python",
   "pygments_lexer": "ipython3",
   "version": "3.11.4"
  },
  "vscode": {
   "interpreter": {
    "hash": "47dbd0a476a3afab4bb9d94617851a7be873de5b5b77d07f3642f64ab769c560"
   }
  }
 },
 "nbformat": 4,
 "nbformat_minor": 2
}
