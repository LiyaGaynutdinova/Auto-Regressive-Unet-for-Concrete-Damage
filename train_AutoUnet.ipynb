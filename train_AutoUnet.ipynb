{
 "cells": [
  {
   "cell_type": "code",
   "execution_count": 1,
   "metadata": {},
   "outputs": [
    {
     "name": "stderr",
     "output_type": "stream",
     "text": [
      "c:\\Users\\gaynuliy\\Anaconda3\\envs\\home\\lib\\site-packages\\tqdm\\auto.py:22: TqdmWarning: IProgress not found. Please update jupyter and ipywidgets. See https://ipywidgets.readthedocs.io/en/stable/user_install.html\n",
      "  from .autonotebook import tqdm as notebook_tqdm\n"
     ]
    },
    {
     "name": "stdout",
     "output_type": "stream",
     "text": [
      "Using device: cuda\n"
     ]
    }
   ],
   "source": [
    "import numpy as np\n",
    "#import mlflow\n",
    "import matplotlib.pyplot as plt\n",
    "from matplotlib.pyplot import figure\n",
    "%matplotlib inline\n",
    "from PIL import Image\n",
    "from dataset import *\n",
    "from save_load import *\n",
    "from AutoUnet_half import *\n",
    "from train_AutoUnet import *\n",
    "%load_ext autoreload\n",
    "%autoreload 2\n",
    "\n",
    "#mlflow.autolog()"
   ]
  },
  {
   "cell_type": "code",
   "execution_count": 2,
   "metadata": {},
   "outputs": [
    {
     "data": {
      "text/plain": [
       "<matplotlib.image.AxesImage at 0x2a0901b91c0>"
      ]
     },
     "execution_count": 2,
     "metadata": {},
     "output_type": "execute_result"
    },
    {
     "data": {
      "image/png": "[encoded data removed]",
      "text/plain": [
       "<Figure size 640x480 with 1 Axes>"
      ]
     },
     "metadata": {},
     "output_type": "display_data"
    }
   ],
   "source": [
    "data = dataset()\n",
    "imgs, label = data.__getitem__(3)\n",
    "loaders = get_loaders_manual(data, 10)\n",
    "plt.imshow(imgs[0], cmap='Greys')"
   ]
  },
  {
   "cell_type": "code",
   "execution_count": 3,
   "metadata": {},
   "outputs": [],
   "source": [
    "args = {'lr' : 0.001, 'epochs' : 100, 'dev' : dev, 'name' : 'AutoUnet_half'}"
   ]
  },
  {
   "cell_type": "code",
   "execution_count": 4,
   "metadata": {},
   "outputs": [],
   "source": [
    "unet = AutoUNet_half()"
   ]
  },
  {
   "cell_type": "code",
   "execution_count": 5,
   "metadata": {},
   "outputs": [],
   "source": [
    "unet = load_network(unet, args['name']+'_4', args)"
   ]
  },
  {
   "cell_type": "code",
   "execution_count": 5,
   "metadata": {},
   "outputs": [
    {
     "name": "stderr",
     "output_type": "stream",
     "text": [
      "c:\\Users\\gaynuliy\\Anaconda3\\envs\\home\\lib\\site-packages\\torch\\nn\\functional.py:1960: UserWarning: nn.functional.sigmoid is deprecated. Use torch.sigmoid instead.\n",
      "  warnings.warn(\"nn.functional.sigmoid is deprecated. Use torch.sigmoid instead.\")\n"
     ]
    },
    {
     "name": "stdout",
     "output_type": "stream",
     "text": [
      "Epoch: 0 batch: 0 mean train loss:  6829.6179687500\n",
      "Epoch: 0 batch: 200 mean train loss:  1658.3640625000\n",
      "Epoch: 0 batch: 400 mean train loss:  1117.6068359375\n",
      "Epoch: 0 batch: 600 mean train loss:  1105.6149414062\n",
      "Epoch: 0 batch: 800 mean train loss:  1437.4136718750\n",
      "Epoch: 0 batch: 1000 mean train loss:  1184.9833007812\n",
      "Epoch: 0 batch: 1200 mean train loss:  1237.5382812500\n",
      "Epoch: 0 batch: 1400 mean train loss:  1330.2598632813\n",
      "Epoch: 0 batch: 1600 mean train loss:  1367.6832031250\n",
      "Epoch: 0 batch: 1800 mean train loss:  1307.5558593750\n",
      "Epoch: 0 batch: 2000 mean train loss:  1197.9926757812\n",
      "Epoch: 0 batch: 2200 mean train loss:  944.5928710937\n",
      "Epoch: 0 batch: 2400 mean train loss:  1101.2048828125\n",
      "Epoch: 0 batch: 2600 mean train loss:  1505.2235351562\n",
      "Epoch: 0 batch: 2800 mean train loss:  1373.5865234375\n",
      "Epoch: 0 batch: 3000 mean train loss:  1398.8746093750\n",
      "Epoch: 0 batch: 3200 mean train loss:  1000.5204101563\n",
      "Epoch: 0 batch: 3400 mean train loss:  1270.0887695312\n",
      "Epoch: 0 batch: 3600 mean train loss:  1004.9824218750\n",
      "Epoch: 0 batch: 3800 mean train loss:  1300.2274414062\n",
      "Epoch: 0 batch: 4000 mean train loss:  732.9625976562\n",
      "Epoch: 0 batch: 4200 mean train loss:  1237.3525390625\n",
      "Epoch: 0 batch: 4400 mean train loss:  1180.9857421875\n",
      "Epoch: 0 batch: 4600 mean train loss:  1121.6494140625\n",
      "Epoch: 0 batch: 4800 mean train loss:  979.3765625000\n",
      "Epoch: 0 batch: 5000 mean train loss:  907.0730468750\n",
      "Epoch: 0 batch: 5200 mean train loss:  882.3808593750\n",
      "Epoch: 0 batch: 5400 mean train loss:  1183.5320312500\n",
      "Epoch: 0 batch: 5600 mean train loss:  1416.8556640625\n",
      "Epoch: 0 batch: 5800 mean train loss:  1062.9308593750\n",
      "Epoch: 0 batch: 6000 mean train loss:  1321.0526367187\n",
      "Epoch: 0 batch: 6200 mean train loss:  1395.8426757812\n",
      "Epoch: 0 batch: 6400 mean train loss:  1198.6822265625\n",
      "Epoch: 0 batch: 6600 mean train loss:  960.7638671875\n",
      "Epoch: 0 batch: 6800 mean train loss:  1031.7987304687\n",
      "Epoch: 0 batch: 7000 mean train loss:  963.8838867187\n",
      "Epoch: 0 batch: 7200 mean train loss:  1370.1666015625\n",
      "Epoch: 0 batch: 7400 mean train loss:  1205.0671875000\n",
      "Epoch: 0 batch: 7600 mean train loss:  1091.1204101563\n",
      "Epoch: 0 batch: 7800 mean train loss:  1334.9087890625\n",
      "Epoch: 0 batch: 8000 mean train loss:  1051.5421875000\n",
      "Epoch: 0 batch: 8200 mean train loss:  994.8568359375\n",
      "Epoch: 0 batch: 8400 mean train loss:  1120.7640625000\n",
      "Epoch: 0 batch: 8600 mean train loss:  1606.2630859375\n",
      "Epoch: 0 batch: 8800 mean train loss:  779.0598632813\n",
      "Epoch: 0 batch: 9000 mean train loss:  1246.8154296875\n",
      "Epoch: 0 batch: 9200 mean train loss:  1202.9295898437\n",
      "Epoch: 0 batch: 9400 mean train loss:  1268.6074218750\n",
      "Epoch: 0 batch: 9600 mean train loss:  1298.3373046875\n",
      "Epoch: 0 batch: 9800 mean train loss:  1277.0863281250\n",
      "Epoch: 0 batch: 10000 mean train loss:  1232.7165039062\n",
      "Epoch: 0 batch: 10200 mean train loss:  1042.4757812500\n",
      "Epoch: 0 batch: 10400 mean train loss:  1193.7833984375\n",
      "Epoch: 0 batch: 10600 mean train loss:  1076.0212890625\n",
      "Epoch: 0 batch: 10800 mean train loss:  1397.6828125000\n",
      "Epoch: 0 batch: 11000 mean train loss:  1168.1258789062\n",
      "Epoch: 0 batch: 11200 mean train loss:  1040.5578125000\n",
      "Epoch: 0 batch: 11400 mean train loss:  1212.7800781250\n",
      "Epoch: 0 batch: 11600 mean train loss:  1300.6070312500\n",
      "Epoch: 0 batch: 11800 mean train loss:  1229.6007812500\n",
      "Epoch: 0 mean train loss:  1193.7188749634 mean val. rec. loss:  1156.5345399089\n",
      "Epoch: 1 batch: 0 mean train loss:  1212.1845703125\n",
      "Epoch: 1 batch: 200 mean train loss:  1057.7574218750\n",
      "Epoch: 1 batch: 400 mean train loss:  1022.9404296875\n",
      "Epoch: 1 batch: 600 mean train loss:  1217.6720703125\n",
      "Epoch: 1 batch: 800 mean train loss:  1140.7267578125\n",
      "Epoch: 1 batch: 1000 mean train loss:  1057.6812500000\n",
      "Epoch: 1 batch: 1200 mean train loss:  825.9935546875\n",
      "Epoch: 1 batch: 1400 mean train loss:  1138.8772460938\n",
      "Epoch: 1 batch: 1600 mean train loss:  1179.2267578125\n",
      "Epoch: 1 batch: 1800 mean train loss:  1168.7036132812\n",
      "Epoch: 1 batch: 2000 mean train loss:  951.5736328125\n",
      "Epoch: 1 batch: 2200 mean train loss:  1147.6733398438\n",
      "Epoch: 1 batch: 2400 mean train loss:  1377.4804687500\n",
      "Epoch: 1 batch: 2600 mean train loss:  1166.8573242187\n",
      "Epoch: 1 batch: 2800 mean train loss:  1156.9724609375\n",
      "Epoch: 1 batch: 3000 mean train loss:  1199.5583984375\n",
      "Epoch: 1 batch: 3200 mean train loss:  1299.1771484375\n",
      "Epoch: 1 batch: 3400 mean train loss:  1188.0634765625\n",
      "Epoch: 1 batch: 3600 mean train loss:  1260.3824218750\n"
     ]
    },
    {
     "ename": "KeyboardInterrupt",
     "evalue": "",
     "output_type": "error",
     "traceback": [
      "\u001b[1;31m---------------------------------------------------------------------------\u001b[0m",
      "\u001b[1;31mKeyboardInterrupt\u001b[0m                         Traceback (most recent call last)",
      "\u001b[1;32mc:\\Users\\gaynuliy\\Shrinkage_diffusion\\train_AutoUnet.ipynb Cell 6\u001b[0m in \u001b[0;36m1\n\u001b[1;32m----> <a href='vscode-notebook-cell:/c%3A/Users/gaynuliy/Shrinkage_diffusion/train_AutoUnet.ipynb#W5sZmlsZQ%3D%3D?line=0'>1</a>\u001b[0m losses_train, losses_val \u001b[39m=\u001b[39m train(unet, loaders, args)\n",
      "File \u001b[1;32mc:\\Users\\gaynuliy\\Shrinkage_diffusion\\train_AutoUnet.py:46\u001b[0m, in \u001b[0;36mtrain\u001b[1;34m(net, loaders, args)\u001b[0m\n\u001b[0;32m     44\u001b[0m \u001b[39m# loop fetching a mini-batch of data at each iteration\u001b[39;00m\n\u001b[0;32m     45\u001b[0m \u001b[39mfor\u001b[39;00m i, (x, label) \u001b[39min\u001b[39;00m \u001b[39menumerate\u001b[39m(loaders[\u001b[39m'\u001b[39m\u001b[39mtrain\u001b[39m\u001b[39m'\u001b[39m]):\n\u001b[1;32m---> 46\u001b[0m     x \u001b[39m=\u001b[39m x\u001b[39m.\u001b[39;49mto(args[\u001b[39m'\u001b[39;49m\u001b[39mdev\u001b[39;49m\u001b[39m'\u001b[39;49m])\n\u001b[0;32m     47\u001b[0m     label \u001b[39m=\u001b[39m label\u001b[39m.\u001b[39mto(args[\u001b[39m'\u001b[39m\u001b[39mdev\u001b[39m\u001b[39m'\u001b[39m])\u001b[39m.\u001b[39mview(\u001b[39m-\u001b[39m\u001b[39m1\u001b[39m,\u001b[39m1\u001b[39m,\u001b[39m99\u001b[39m,\u001b[39m99\u001b[39m)  \n\u001b[0;32m     48\u001b[0m     \u001b[39m# apply the network\u001b[39;00m\n",
      "\u001b[1;31mKeyboardInterrupt\u001b[0m: "
     ]
    }
   ],
   "source": [
    "losses_train, losses_val = train(unet, loaders, args)"
   ]
  },
  {
   "cell_type": "code",
   "execution_count": 28,
   "metadata": {
    "scrolled": true
   },
   "outputs": [
    {
     "data": {
      "text/plain": [
       "<matplotlib.legend.Legend at 0x2161dcfb2e0>"
      ]
     },
     "execution_count": 28,
     "metadata": {},
     "output_type": "execute_result"
    },
    {
     "data": {
      "image/png": "[encoded data removed]",
      "text/plain": [
       "<Figure size 432x288 with 1 Axes>"
      ]
     },
     "metadata": {
      "needs_background": "light"
     },
     "output_type": "display_data"
    }
   ],
   "source": [
    "plt.plot(losses_train)\n",
    "plt.plot(losses_val)\n",
    "plt.xlabel('epoch')\n",
    "plt.legend(['train', 'validation'])"
   ]
  },
  {
   "cell_type": "code",
   "execution_count": 24,
   "metadata": {},
   "outputs": [],
   "source": [
    "train_data = next(iter(loaders['train']))[0].to(args['dev'])"
   ]
  },
  {
   "cell_type": "code",
   "execution_count": 8,
   "metadata": {},
   "outputs": [],
   "source": [
    "unet = unet.to(args['dev'])"
   ]
  },
  {
   "cell_type": "code",
   "execution_count": 9,
   "metadata": {},
   "outputs": [],
   "source": [
    "y = unet(train_data)"
   ]
  }
 ],
 "metadata": {
  "kernelspec": {
   "display_name": "Python 3 (ipykernel)",
   "language": "python",
   "name": "python3"
  },
  "language_info": {
   "codemirror_mode": {
    "name": "ipython",
    "version": 3
   },
   "file_extension": ".py",
   "mimetype": "text/x-python",
   "name": "python",
   "nbconvert_exporter": "python",
   "pygments_lexer": "ipython3",
   "version": "3.9.13"
  },
  "vscode": {
   "interpreter": {
    "hash": "47dbd0a476a3afab4bb9d94617851a7be873de5b5b77d07f3642f64ab769c560"
   }
  }
 },
 "nbformat": 4,
 "nbformat_minor": 2
}
