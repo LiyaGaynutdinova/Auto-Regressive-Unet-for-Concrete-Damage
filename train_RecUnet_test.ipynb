{
 "cells": [
  {
   "cell_type": "code",
   "execution_count": 1,
   "metadata": {},
   "outputs": [
    {
     "name": "stderr",
     "output_type": "stream",
     "text": [
      "c:\\ProgramData\\Anaconda3\\lib\\site-packages\\torchvision\\io\\image.py:13: UserWarning: Failed to load image Python extension: Could not find module 'C:\\ProgramData\\Anaconda3\\Lib\\site-packages\\torchvision\\image.pyd' (or one of its dependencies). Try using the full path with constructor syntax.\n",
      "  warn(f\"Failed to load image Python extension: {e}\")\n"
     ]
    },
    {
     "name": "stdout",
     "output_type": "stream",
     "text": [
      "Using device: cpu\n"
     ]
    }
   ],
   "source": [
    "import numpy as np\n",
    "#import mlflow\n",
    "import matplotlib.pyplot as plt\n",
    "from matplotlib.pyplot import figure\n",
    "%matplotlib inline\n",
    "from PIL import Image\n",
    "from dataset import *\n",
    "from save_load import *\n",
    "from RecUnet import *\n",
    "from train_RecUnet import *\n",
    "%load_ext autoreload\n",
    "%autoreload 2\n",
    "\n",
    "#mlflow.autolog()"
   ]
  },
  {
   "cell_type": "code",
   "execution_count": 2,
   "metadata": {},
   "outputs": [
    {
     "ename": "",
     "evalue": "",
     "output_type": "error",
     "traceback": [
      "\u001b[1;31mCannot execute code, session has been disposed. Please try restarting the Kernel."
     ]
    },
    {
     "ename": "",
     "evalue": "",
     "output_type": "error",
     "traceback": [
      "\u001b[1;31mThe Kernel crashed while executing code in the the current cell or a previous cell. Please review the code in the cell(s) to identify a possible cause of the failure. Click <a href='https://aka.ms/vscodeJupyterKernelCrash'>here</a> for more info. View Jupyter <a href='command:jupyter.viewOutput'>log</a> for further details."
     ]
    }
   ],
   "source": [
    "data = dataset_seq()\n",
    "geometry, damage, imp_shrinkage, obs_shrinkage = data.__getitem__(1000)\n",
    "loaders = get_loaders(data, 1)\n",
    "fig, axs = plt.subplots(nrows=1, ncols=11, figsize=(10, 1), dpi=200)\n",
    "axs.flat[0].imshow(geometry[0], cmap='Greys')\n",
    "axs.flat[0].set_axis_off()\n",
    "for i in range(1,11):\n",
    "    axs.flat[i].imshow(damage[i], cmap='Greys')\n",
    "    axs.flat[i].set_axis_off()"
   ]
  },
  {
   "cell_type": "code",
   "execution_count": 4,
   "metadata": {},
   "outputs": [],
   "source": [
    "args = {'lr' : 0.001, 'epochs' : 200, 'dev' : dev, 'name' : 'RecUnet'}"
   ]
  },
  {
   "cell_type": "code",
   "execution_count": 6,
   "metadata": {},
   "outputs": [
    {
     "name": "stdout",
     "output_type": "stream",
     "text": [
      "Using device: cpu\n"
     ]
    }
   ],
   "source": [
    "unet = RecUNet()"
   ]
  },
  {
   "cell_type": "code",
   "execution_count": null,
   "metadata": {},
   "outputs": [],
   "source": [
    "unet = load_network(unet, args['name'], args)"
   ]
  },
  {
   "cell_type": "code",
   "execution_count": 15,
   "metadata": {},
   "outputs": [
    {
     "name": "stdout",
     "output_type": "stream",
     "text": [
      "Epoch: 0 batch: 0 mean train loss:  4872.1669921875\n",
      "Epoch: 0 batch: 100 mean train loss:  4943.4604492188\n",
      "Epoch: 0 batch: 200 mean train loss:  4664.3032226562\n",
      "Epoch: 0 batch: 300 mean train loss:  4461.9472656250\n",
      "Epoch: 0 batch: 400 mean train loss:  4504.3129882812\n",
      "Epoch: 0 batch: 500 mean train loss:  4077.3027343750\n"
     ]
    },
    {
     "ename": "KeyboardInterrupt",
     "evalue": "",
     "output_type": "error",
     "traceback": [
      "\u001b[1;31m---------------------------------------------------------------------------\u001b[0m",
      "\u001b[1;31mKeyboardInterrupt\u001b[0m                         Traceback (most recent call last)",
      "Cell \u001b[1;32mIn[15], line 1\u001b[0m\n\u001b[1;32m----> 1\u001b[0m losses_train, losses_val \u001b[39m=\u001b[39m train(unet, loaders, args)\n",
      "File \u001b[1;32mc:\\Users\\Jorge\\Documents\\GitHub\\Shrinkage_diffusion\\train_RecUnet.py:67\u001b[0m, in \u001b[0;36mtrain\u001b[1;34m(net, loaders, args)\u001b[0m\n\u001b[0;32m     65\u001b[0m optimizer\u001b[39m.\u001b[39mzero_grad()\n\u001b[0;32m     66\u001b[0m \u001b[39m# compute the gradient from the mini-batch loss\u001b[39;00m\n\u001b[1;32m---> 67\u001b[0m l\u001b[39m.\u001b[39;49mbackward()\n\u001b[0;32m     68\u001b[0m \u001b[39m# make the optimization step\u001b[39;00m\n\u001b[0;32m     69\u001b[0m optimizer\u001b[39m.\u001b[39mstep()\n",
      "File \u001b[1;32mc:\\ProgramData\\Anaconda3\\lib\\site-packages\\torch\\_tensor.py:396\u001b[0m, in \u001b[0;36mTensor.backward\u001b[1;34m(self, gradient, retain_graph, create_graph, inputs)\u001b[0m\n\u001b[0;32m    387\u001b[0m \u001b[39mif\u001b[39;00m has_torch_function_unary(\u001b[39mself\u001b[39m):\n\u001b[0;32m    388\u001b[0m     \u001b[39mreturn\u001b[39;00m handle_torch_function(\n\u001b[0;32m    389\u001b[0m         Tensor\u001b[39m.\u001b[39mbackward,\n\u001b[0;32m    390\u001b[0m         (\u001b[39mself\u001b[39m,),\n\u001b[1;32m   (...)\u001b[0m\n\u001b[0;32m    394\u001b[0m         create_graph\u001b[39m=\u001b[39mcreate_graph,\n\u001b[0;32m    395\u001b[0m         inputs\u001b[39m=\u001b[39minputs)\n\u001b[1;32m--> 396\u001b[0m torch\u001b[39m.\u001b[39;49mautograd\u001b[39m.\u001b[39;49mbackward(\u001b[39mself\u001b[39;49m, gradient, retain_graph, create_graph, inputs\u001b[39m=\u001b[39;49minputs)\n",
      "File \u001b[1;32mc:\\ProgramData\\Anaconda3\\lib\\site-packages\\torch\\autograd\\__init__.py:173\u001b[0m, in \u001b[0;36mbackward\u001b[1;34m(tensors, grad_tensors, retain_graph, create_graph, grad_variables, inputs)\u001b[0m\n\u001b[0;32m    168\u001b[0m     retain_graph \u001b[39m=\u001b[39m create_graph\n\u001b[0;32m    170\u001b[0m \u001b[39m# The reason we repeat same the comment below is that\u001b[39;00m\n\u001b[0;32m    171\u001b[0m \u001b[39m# some Python versions print out the first line of a multi-line function\u001b[39;00m\n\u001b[0;32m    172\u001b[0m \u001b[39m# calls in the traceback and some print out the last line\u001b[39;00m\n\u001b[1;32m--> 173\u001b[0m Variable\u001b[39m.\u001b[39;49m_execution_engine\u001b[39m.\u001b[39;49mrun_backward(  \u001b[39m# Calls into the C++ engine to run the backward pass\u001b[39;49;00m\n\u001b[0;32m    174\u001b[0m     tensors, grad_tensors_, retain_graph, create_graph, inputs,\n\u001b[0;32m    175\u001b[0m     allow_unreachable\u001b[39m=\u001b[39;49m\u001b[39mTrue\u001b[39;49;00m, accumulate_grad\u001b[39m=\u001b[39;49m\u001b[39mTrue\u001b[39;49;00m)\n",
      "\u001b[1;31mKeyboardInterrupt\u001b[0m: "
     ]
    }
   ],
   "source": [
    "losses_train, losses_val = train(unet, loaders, args)"
   ]
  },
  {
   "cell_type": "code",
   "execution_count": 28,
   "metadata": {
    "scrolled": true
   },
   "outputs": [
    {
     "data": {
      "text/plain": [
       "<matplotlib.legend.Legend at 0x2161dcfb2e0>"
      ]
     },
     "execution_count": 28,
     "metadata": {},
     "output_type": "execute_result"
    },
    {
     "data": {
      "image/png": "[encoded data removed]",
      "text/plain": [
       "<Figure size 432x288 with 1 Axes>"
      ]
     },
     "metadata": {
      "needs_background": "light"
     },
     "output_type": "display_data"
    }
   ],
   "source": [
    "plt.plot(losses_train)\n",
    "plt.plot(losses_val)\n",
    "plt.xlabel('epoch')\n",
    "plt.legend(['train', 'validation'])"
   ]
  },
  {
   "attachments": {},
   "cell_type": "markdown",
   "metadata": {},
   "source": [
    "Test U-Net"
   ]
  },
  {
   "cell_type": "code",
   "execution_count": 2,
   "metadata": {},
   "outputs": [],
   "source": [
    "data = dataset_seq()\n",
    "loaders = get_loaders(data, 1)"
   ]
  },
  {
   "cell_type": "code",
   "execution_count": 3,
   "metadata": {},
   "outputs": [
    {
     "data": {
      "text/plain": [
       "RecUNet(\n",
       "  (e11): Conv2d(4, 64, kernel_size=(3, 3), stride=(1, 1), groups=2)\n",
       "  (e12): Conv2d(64, 64, kernel_size=(3, 3), stride=(1, 1), groups=2)\n",
       "  (pool1): MaxPool2d(kernel_size=2, stride=2, padding=0, dilation=1, ceil_mode=False)\n",
       "  (e21): Conv2d(64, 128, kernel_size=(3, 3), stride=(1, 1), padding=same, groups=2, padding_mode=circular)\n",
       "  (e22): Conv2d(128, 128, kernel_size=(3, 3), stride=(1, 1), padding=same, groups=2, padding_mode=circular)\n",
       "  (pool2): MaxPool2d(kernel_size=2, stride=2, padding=0, dilation=1, ceil_mode=False)\n",
       "  (e31): Conv2d(128, 256, kernel_size=(3, 3), stride=(1, 1), padding=same, groups=2, padding_mode=circular)\n",
       "  (e32): Conv2d(256, 256, kernel_size=(3, 3), stride=(1, 1), padding=same, groups=2, padding_mode=circular)\n",
       "  (pool3): MaxPool2d(kernel_size=2, stride=2, padding=0, dilation=1, ceil_mode=False)\n",
       "  (at0): Conv2d(256, 256, kernel_size=(1, 1), stride=(1, 1), groups=256)\n",
       "  (e41): Conv2d(256, 512, kernel_size=(3, 3), stride=(1, 1), padding=same, padding_mode=circular)\n",
       "  (e42): Conv2d(512, 512, kernel_size=(3, 3), stride=(1, 1), padding=same, padding_mode=circular)\n",
       "  (upconv1): ConvTranspose2d(512, 256, kernel_size=(2, 2), stride=(2, 2))\n",
       "  (at1): Conv2d(512, 512, kernel_size=(1, 1), stride=(1, 1), groups=512)\n",
       "  (d11): Conv2d(512, 256, kernel_size=(3, 3), stride=(1, 1), padding=same)\n",
       "  (d12): Conv2d(256, 256, kernel_size=(3, 3), stride=(1, 1), padding=same)\n",
       "  (upconv2): ConvTranspose2d(256, 128, kernel_size=(2, 2), stride=(2, 2))\n",
       "  (at2): Conv2d(256, 256, kernel_size=(1, 1), stride=(1, 1), groups=256)\n",
       "  (d21): Conv2d(256, 128, kernel_size=(3, 3), stride=(1, 1), padding=same)\n",
       "  (d22): Conv2d(128, 128, kernel_size=(3, 3), stride=(1, 1), padding=same)\n",
       "  (upconv3): ConvTranspose2d(128, 64, kernel_size=(2, 2), stride=(2, 2))\n",
       "  (at3): Conv2d(128, 128, kernel_size=(1, 1), stride=(1, 1), groups=128)\n",
       "  (d31): Conv2d(128, 64, kernel_size=(3, 3), stride=(1, 1), padding=(2, 2))\n",
       "  (d32): Conv2d(64, 64, kernel_size=(3, 3), stride=(1, 1), padding=(2, 2))\n",
       "  (outconv): Conv2d(64, 2, kernel_size=(1, 1), stride=(1, 1))\n",
       ")"
      ]
     },
     "execution_count": 3,
     "metadata": {},
     "output_type": "execute_result"
    }
   ],
   "source": [
    "unet = RecUNet()\n",
    "args = {'lr' : 0.001, 'epochs' : 200, 'dev' : dev, 'name' : 'RecUnet'}\n",
    "unet = load_network(unet, args['name']+'_9', args)\n",
    "unet = unet.to(args['dev'])\n",
    "unet.eval()"
   ]
  },
  {
   "cell_type": "code",
   "execution_count": 4,
   "metadata": {},
   "outputs": [],
   "source": [
    "loss_damage = nn.BCELoss(reduction='none')\n",
    "loss_shrinkage = nn.L1Loss(reduction='none')\n",
    "\n",
    "L_dam = []\n",
    "L_shr = []\n",
    "\n",
    "for i, (geometry, damage, imp_shrinkage, obs_shrinkage) in enumerate(loaders['test']):\n",
    "    geometry = geometry.to(args['dev'])\n",
    "    damage = damage.to(args['dev'])\n",
    "    imp_shrinkage = imp_shrinkage.to(args['dev'])\n",
    "    obs_shrinkage = obs_shrinkage.to(args['dev'])\n",
    "    l_seq_dam = []\n",
    "    l_seq_shr = []\n",
    "    seq = []\n",
    "    for n in range(10):\n",
    "        if n == 0:\n",
    "            x = torch.cat([geometry, imp_shrinkage[:,[n],:,:], damage[:,[n],:,:], damage[:,[n],:,:]], axis=1)\n",
    "        else:\n",
    "            x = torch.cat([geometry, imp_shrinkage[:,[n],:,:], y.detach()], axis=1)\n",
    "        # apply the network\n",
    "        y = unet(x)\n",
    "        # calculate mini-batch losses\n",
    "        l_dam = loss_damage(y[:,[0],:,:], damage[:,[n+1],:,:]).sum().detach().item()\n",
    "        l_shr = loss_shrinkage(y[:,1].mean((1,2)), obs_shrinkage[:,n+1]).sum().detach().item()\n",
    "        l_seq_dam.append(l_dam)\n",
    "        l_seq_shr.append(l_shr)\n",
    "    L_dam.append(l_seq_dam)\n",
    "    L_shr.append(l_seq_shr)"
   ]
  },
  {
   "cell_type": "code",
   "execution_count": null,
   "metadata": {},
   "outputs": [],
   "source": [
    "fig, axs = plt.subplots(nrows=1, ncols=2, figsize=(20, 10), dpi=50)\n",
    "for l in range(l_seq_dam):\n",
    "    axs.flat[0].plot(l_seq_dam, color='Blue')\n",
    "for l in range(l_seq_shr):\n",
    "    axs.flat[1].plot(l_seq_shr, color='Blue')"
   ]
  },
  {
   "cell_type": "code",
   "execution_count": null,
   "metadata": {},
   "outputs": [],
   "source": [
    "n_samples = 10\n",
    "fig, axs = plt.subplots(nrows=2, ncols=n_samples, figsize=(n_samples, 2), dpi=200)\n",
    "for i in range(n_samples):\n",
    "    axs.flat[i].imshow(x[i].detach().cpu().numpy(), cmap='Greys')\n",
    "    axs.flat[i].set_axis_off()\n",
    "for i in range(n_samples, 2*n_samples):\n",
    "    axs.flat[i].imshow(y[i-n_samples].numpy(), cmap='Greys')\n",
    "    axs.flat[i].set_axis_off()"
   ]
  }
 ],
 "metadata": {
  "kernelspec": {
   "display_name": "Python 3 (ipykernel)",
   "language": "python",
   "name": "python3"
  },
  "language_info": {
   "codemirror_mode": {
    "name": "ipython",
    "version": 3
   },
   "file_extension": ".py",
   "mimetype": "text/x-python",
   "name": "python",
   "nbconvert_exporter": "python",
   "pygments_lexer": "ipython3",
   "version": "3.9.16"
  },
  "vscode": {
   "interpreter": {
    "hash": "47dbd0a476a3afab4bb9d94617851a7be873de5b5b77d07f3642f64ab769c560"
   }
  }
 },
 "nbformat": 4,
 "nbformat_minor": 2
}
